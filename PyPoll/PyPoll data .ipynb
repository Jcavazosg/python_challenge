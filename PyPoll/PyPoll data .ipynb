{
 "cells": [
  {
   "cell_type": "code",
   "execution_count": 1,
   "metadata": {},
   "outputs": [
    {
     "name": "stdout",
     "output_type": "stream",
     "text": [
      "Election Results\n",
      "------------------------\n",
      "Total Votes: 3521001\n",
      "------------------------\n",
      "Khan: 63% 2218231\n",
      "Correy: 19% 2922431\n",
      "Li: 13% 3415371\n",
      "O'Tooley: 2% 3521001\n",
      "-----------------------\n",
      "Winner: Khan\n",
      "-----------------------\n"
     ]
    }
   ],
   "source": [
    "import os\n",
    "import csv\n",
    "\n",
    "csvpath = os.path.join(\"Resources/election_data.csv\")\n",
    "\n",
    "Candidates = {}\n",
    "Votes = 0\n",
    "Votes_Counted = 0\n",
    "percent_of_votes = 0\n",
    "Most_Votes = 0\n",
    "Most_Voted = \"\"\n",
    "\n",
    "with open(csvpath, newline=\"\") as csvfile:\n",
    "    csvreader = csv.reader(csvfile, delimiter=\",\")\n",
    "    csv_header = next(csvfile)\n",
    "        \n",
    "    for row in csvreader:\n",
    "        candidate = row[2]\n",
    "        Votes += 1\n",
    "        \n",
    "        if candidate in Candidates.keys():\n",
    "            Candidates[candidate] += 1\n",
    "        else:\n",
    "            Candidates[candidate] = 1\n",
    "    \n",
    "    print(\"Election Results\")\n",
    "    print(\"------------------------\")\n",
    "    print(f\"Total Votes: {Votes}\")\n",
    "    print(\"------------------------\")\n",
    "    \n",
    "    for candidate in Candidates:\n",
    "        Votes_Counted += Candidates[candidate]\n",
    "    \n",
    "        percent_of_votes = (Candidates[candidate])/(Votes) * 100\n",
    "        print(f\"{candidate}: {int(percent_of_votes)}% {Votes_Counted}\")\n",
    "        \n",
    "        if Candidates[candidate] > Most_Votes:\n",
    "            Most_Voted = candidate\n",
    "            Most_Votes = Candidates[candidate]\n",
    "        \n",
    "    print(\"-----------------------\")\n",
    "    \n",
    "    print(f\"Winner: {Most_Voted}\")\n",
    "    \n",
    "    print(\"-----------------------\")"
   ]
  },
  {
   "cell_type": "code",
   "execution_count": 2,
   "metadata": {},
   "outputs": [
    {
     "ename": "SyntaxError",
     "evalue": "invalid syntax (<ipython-input-2-cb7b691e40f8>, line 12)",
     "output_type": "error",
     "traceback": [
      "\u001b[0;36m  File \u001b[0;32m\"<ipython-input-2-cb7b691e40f8>\"\u001b[0;36m, line \u001b[0;32m12\u001b[0m\n\u001b[0;31m    with open(output_path, \"w\") as txt\u001b[0m\n\u001b[0m                                      ^\u001b[0m\n\u001b[0;31mSyntaxError\u001b[0m\u001b[0;31m:\u001b[0m invalid syntax\n"
     ]
    }
   ],
   "source": [
    "printout = (\n",
    "\n",
    "    \"\\Election Results\\n\"\n",
    "    \"------------------------\\n\"\n",
    "    f\"Total Votes: {Votes}\\n\"\n",
    "    \"------------------------\\n\"\n",
    "    f\"Winner: {Most_Voted}\\n\"\n",
    "    \"-----------------------\\n\"\n",
    ")\n",
    "\n",
    "output_path = pypoll.txt\n",
    "with open(output_path, \"w\") as txt\n",
    "    txt.write(printout)"
   ]
  },
  {
   "cell_type": "code",
   "execution_count": null,
   "metadata": {},
   "outputs": [],
   "source": [
    "\n",
    "        \n"
   ]
  },
  {
   "cell_type": "code",
   "execution_count": null,
   "metadata": {},
   "outputs": [],
   "source": []
  },
  {
   "cell_type": "code",
   "execution_count": null,
   "metadata": {},
   "outputs": [],
   "source": []
  },
  {
   "cell_type": "code",
   "execution_count": null,
   "metadata": {},
   "outputs": [],
   "source": []
  },
  {
   "cell_type": "code",
   "execution_count": null,
   "metadata": {},
   "outputs": [],
   "source": []
  },
  {
   "cell_type": "code",
   "execution_count": null,
   "metadata": {},
   "outputs": [],
   "source": []
  },
  {
   "cell_type": "code",
   "execution_count": null,
   "metadata": {},
   "outputs": [],
   "source": []
  },
  {
   "cell_type": "code",
   "execution_count": null,
   "metadata": {},
   "outputs": [],
   "source": []
  },
  {
   "cell_type": "code",
   "execution_count": null,
   "metadata": {},
   "outputs": [],
   "source": []
  },
  {
   "cell_type": "code",
   "execution_count": null,
   "metadata": {},
   "outputs": [],
   "source": []
  },
  {
   "cell_type": "code",
   "execution_count": null,
   "metadata": {},
   "outputs": [],
   "source": []
  },
  {
   "cell_type": "code",
   "execution_count": null,
   "metadata": {},
   "outputs": [],
   "source": []
  }
 ],
 "metadata": {
  "kernelspec": {
   "display_name": "Conda [PythonData]",
   "language": "python",
   "name": "pythondata"
  },
  "language_info": {
   "codemirror_mode": {
    "name": "ipython",
    "version": 3
   },
   "file_extension": ".py",
   "mimetype": "text/x-python",
   "name": "python",
   "nbconvert_exporter": "python",
   "pygments_lexer": "ipython3",
   "version": "3.7.3"
  }
 },
 "nbformat": 4,
 "nbformat_minor": 2
}
