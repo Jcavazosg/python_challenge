{
 "cells": [
  {
   "cell_type": "code",
   "execution_count": null,
   "metadata": {},
   "outputs": [],
   "source": [
    "import os\n",
    "import csv\n",
    "\n",
    "csvpath = os.path.join(\"Resources/election_data.csv\")\n",
    "\n",
    "Candidates = {}\n",
    "Votes = 0\n",
    "Votes_Counted = 0\n",
    "percent_of_votes = 0\n",
    "Most_Votes = 0\n",
    "Most_Voted = \"\"\n",
    "\n",
    "with open(csvpath, newline=\"\") as csvfile:\n",
    "    csvreader = csv.reader(csvfile, delimiter=\",\")\n",
    "    csv_header = next(csvfile)\n",
    "        \n",
    "    for row in csvreader:\n",
    "        candidate = row[2]\n",
    "        Votes += 1\n",
    "        \n",
    "        if candidate in Candidates.keys():\n",
    "            Candidates[candidate] += 1\n",
    "        else:\n",
    "            Candidates[candidate] = 1\n",
    "    \n",
    "    print(\"Election Results\")\n",
    "    print(\"------------------------\")\n",
    "    print(f\"Total Votes: {Votes}\")\n",
    "    print(\"------------------------\")\n",
    "    \n",
    "    for candidate in Candidates:\n",
    "        Votes_Counted += Candidates[candidate]\n",
    "    \n",
    "        percent_of_votes = (Candidates[candidate])/(Votes) * 100\n",
    "        print(f\"{candidate}: {int(percent_of_votes)}% {Votes_Counted}\")\n",
    "        \n",
    "        if Candidates[candidate] > Most_Votes:\n",
    "            Most_Voted = candidate\n",
    "            Most_Votes = Candidates[candidate]\n",
    "        \n",
    "    print(\"-----------------------\")\n",
    "    \n",
    "    print(f\"Winner: {Most_Voted}\")\n",
    "    \n",
    "    print(\"-----------------------\")\n",
    "    \n",
    "    \n",
    "output_path = os.path.join(\".\", 'PyPollWinner.txt')\n",
    "\n",
    "with open (output_path, 'w') as txt: \n",
    "    txt.write(\"Poll Analysis\")\n",
    "    txt.write(\"\\n\")\n",
    "    txt.write(\"-----------------\")\n",
    "    txt.write(\"\\n\")\n",
    "    txt.write(\"Election Results\")\n",
    "    txt.write(\"\\n\")\n",
    "    txt.write(\"------------------\")\n",
    "    txt.write(\"\\n\")\n",
    "    txt.write(f\"Total Votes: {Votes}\")\n",
    "    txt.write(\"\\n\")\n",
    "    txt.write(\"------------------\")\n",
    "    txt.write(\"\\n\")\n",
    "    txt.write(f\"Winner: {Most_Voted}\")\n",
    "    txt.write(\"\\n\")\n",
    "    txt.write(\"------------------\")\n",
    "\n",
    " \n",
    "    \n",
    "    \n",
    "    "
   ]
  },
  {
   "cell_type": "code",
   "execution_count": null,
   "metadata": {},
   "outputs": [],
   "source": []
  },
  {
   "cell_type": "code",
   "execution_count": null,
   "metadata": {},
   "outputs": [],
   "source": []
  },
  {
   "cell_type": "code",
   "execution_count": null,
   "metadata": {},
   "outputs": [],
   "source": []
  },
  {
   "cell_type": "code",
   "execution_count": null,
   "metadata": {},
   "outputs": [],
   "source": []
  },
  {
   "cell_type": "code",
   "execution_count": null,
   "metadata": {},
   "outputs": [],
   "source": []
  },
  {
   "cell_type": "code",
   "execution_count": null,
   "metadata": {},
   "outputs": [],
   "source": []
  },
  {
   "cell_type": "code",
   "execution_count": null,
   "metadata": {},
   "outputs": [],
   "source": []
  },
  {
   "cell_type": "code",
   "execution_count": null,
   "metadata": {},
   "outputs": [],
   "source": []
  },
  {
   "cell_type": "code",
   "execution_count": null,
   "metadata": {},
   "outputs": [],
   "source": []
  },
  {
   "cell_type": "code",
   "execution_count": null,
   "metadata": {},
   "outputs": [],
   "source": []
  },
  {
   "cell_type": "code",
   "execution_count": null,
   "metadata": {},
   "outputs": [],
   "source": []
  },
  {
   "cell_type": "code",
   "execution_count": null,
   "metadata": {},
   "outputs": [],
   "source": []
  },
  {
   "cell_type": "code",
   "execution_count": null,
   "metadata": {},
   "outputs": [],
   "source": []
  }
 ],
 "metadata": {
  "kernelspec": {
   "display_name": "Conda [PythonData]",
   "language": "python",
   "name": "pythondata"
  },
  "language_info": {
   "codemirror_mode": {
    "name": "ipython",
    "version": 3
   },
   "file_extension": ".py",
   "mimetype": "text/x-python",
   "name": "python",
   "nbconvert_exporter": "python",
   "pygments_lexer": "ipython3",
   "version": "3.7.3"
  }
 },
 "nbformat": 4,
 "nbformat_minor": 2
}
