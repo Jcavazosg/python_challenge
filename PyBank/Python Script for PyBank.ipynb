{
 "cells": [
  {
   "cell_type": "code",
   "execution_count": null,
   "metadata": {},
   "outputs": [],
   "source": [
    "import os \n",
    "import csv\n",
    "\n",
    "csvpath = os.path.join('Resources/budget_data.csv')\n",
    "\n",
    "number_months = []\n",
    "budget_profit = []\n",
    "monthly_change = []\n",
    "\n",
    "with open(csvpath, newline=\"\") as csvfile: \n",
    "    csvreader = csv.reader(csvfile, delimiter=',')\n",
    "    csv_header = next(csvreader)\n",
    "    \n",
    "    for row in csvreader: \n",
    "        number_months.append(row[0])\n",
    "        budget_profit.append(int(row[1]))\n",
    "        \n",
    "    for x in range(len(budget_profit)-1):\n",
    "        monthly_change.append(budget_profit[x+1]-budget_profit[x])\n",
    "        \n",
    "    max_increase = max(monthly_change)\n",
    "    monthly_max_increase = monthly_change.index(max(monthly_change)) + 1\n",
    "    \n",
    "    max_decrease = min(monthly_change)\n",
    "    monthly_max_increase = monthly_change.index(min(monthly_change)) + 1\n",
    "\n",
    "output_path = os.path.join(\".\", 'BudgetAnalysis.txt')\n",
    "\n",
    "with open (output_path, 'w') as txt: \n",
    "    txt.write(\"Budget Analysis\")\n",
    "    txt.write(\"\\n\")\n",
    "    txt.write(\"-----------------\")\n",
    "    txt.write(\"\\n\")\n",
    "    txt.write(f\"Total Months: {len(number_months)}\")\n",
    "    txt.write(\"\\n\")\n",
    "    txt.write(f\"Total: ${sum(budget_profit)}\")\n",
    "    txt.write(\"\\n\")\n",
    "    txt.write(f\"Average Change: {round(sum(monthly_change)/len(monthly_change),2)}\")\n",
    "    txt.write(\"\\n\")\n",
    "    txt.write(f\"Greatest Increase in Profits: {number_months[monthly_max_increase]} (${(str(max_increase))})\")\n",
    "    txt.write(\"\\n\")\n",
    "    txt.write(f\"Greatest Decrease in Profits: {number_months[monthly_max_increase]} (${(str(max_decrease))})\")\n",
    "\n",
    "\n",
    "\n",
    "\n",
    "\n",
    "  \n",
    "\n",
    "\n",
    "\n",
    "\n",
    "\n",
    "\n",
    "\n",
    "\n",
    "\n",
    "\n",
    "\n",
    "\n",
    "\n"
   ]
  },
  {
   "cell_type": "code",
   "execution_count": null,
   "metadata": {},
   "outputs": [],
   "source": []
  },
  {
   "cell_type": "code",
   "execution_count": null,
   "metadata": {},
   "outputs": [],
   "source": []
  },
  {
   "cell_type": "code",
   "execution_count": null,
   "metadata": {},
   "outputs": [],
   "source": []
  },
  {
   "cell_type": "code",
   "execution_count": null,
   "metadata": {},
   "outputs": [],
   "source": []
  },
  {
   "cell_type": "code",
   "execution_count": null,
   "metadata": {},
   "outputs": [],
   "source": [
    "\n"
   ]
  },
  {
   "cell_type": "code",
   "execution_count": null,
   "metadata": {},
   "outputs": [],
   "source": []
  },
  {
   "cell_type": "code",
   "execution_count": null,
   "metadata": {},
   "outputs": [],
   "source": []
  },
  {
   "cell_type": "code",
   "execution_count": null,
   "metadata": {},
   "outputs": [],
   "source": []
  },
  {
   "cell_type": "code",
   "execution_count": null,
   "metadata": {},
   "outputs": [],
   "source": []
  },
  {
   "cell_type": "code",
   "execution_count": null,
   "metadata": {},
   "outputs": [],
   "source": []
  }
 ],
 "metadata": {
  "kernelspec": {
   "display_name": "Conda [PythonData]",
   "language": "python",
   "name": "pythondata"
  },
  "language_info": {
   "codemirror_mode": {
    "name": "ipython",
    "version": 3
   },
   "file_extension": ".py",
   "mimetype": "text/x-python",
   "name": "python",
   "nbconvert_exporter": "python",
   "pygments_lexer": "ipython3",
   "version": "3.7.3"
  }
 },
 "nbformat": 4,
 "nbformat_minor": 2
}
